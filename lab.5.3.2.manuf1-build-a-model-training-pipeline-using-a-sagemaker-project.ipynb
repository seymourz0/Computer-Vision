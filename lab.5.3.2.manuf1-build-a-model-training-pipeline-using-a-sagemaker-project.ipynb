{
 "cells": [
  {
   "cell_type": "markdown",
   "id": "4b32e320-390f-428e-a673-4f83b4049590",
   "metadata": {},
   "source": [
    "# Build a SageMaker pipeline to orchestrate ML project steps"
   ]
  },
  {
   "cell_type": "code",
   "execution_count": 1,
   "id": "d3d8a9c7-c587-4116-ad02-6c00925d7fd2",
   "metadata": {
    "tags": []
   },
   "outputs": [],
   "source": [
    "!pip install -U sagemaker -q"
   ]
  },
  {
   "cell_type": "markdown",
   "id": "977710f9-75b6-44a2-8c45-5a89af2cef5b",
   "metadata": {},
   "source": [
    "## setup "
   ]
  },
  {
   "cell_type": "code",
   "execution_count": 2,
   "id": "2d097543-1c93-450d-b4f6-a2ba45971542",
   "metadata": {
    "tags": []
   },
   "outputs": [
    {
     "name": "stderr",
     "output_type": "stream",
     "text": [
      "/opt/conda/lib/python3.10/site-packages/pandas/core/computation/expressions.py:21: UserWarning: Pandas requires version '2.8.4' or newer of 'numexpr' (version '2.8.3' currently installed).\n",
      "  from pandas.core.computation.check import NUMEXPR_INSTALLED\n",
      "/opt/conda/lib/python3.10/site-packages/pandas/core/arrays/masked.py:60: UserWarning: Pandas requires version '1.3.6' or newer of 'bottleneck' (version '1.3.5' currently installed).\n",
      "  from pandas.core import (\n"
     ]
    },
    {
     "name": "stdout",
     "output_type": "stream",
     "text": [
      "sagemaker.config INFO - Not applying SDK defaults from location: /etc/xdg/sagemaker/config.yaml\n",
      "sagemaker.config INFO - Not applying SDK defaults from location: /root/.config/sagemaker/config.yaml\n"
     ]
    }
   ],
   "source": [
    "import os\n",
    "import numpy as np\n",
    "import sagemaker, boto3, json\n",
    "from sagemaker.session import Session\n",
    "\n",
    "sagemaker_session = Session()\n",
    "account_id = sagemaker_session.account_id()\n",
    "aws_role = sagemaker_session.get_caller_identity_arn()\n",
    "aws_region = boto3.Session().region_name\n",
    "sess = sagemaker.Session()"
   ]
  },
  {
   "cell_type": "code",
   "execution_count": 3,
   "id": "f69e15e3-8d2a-4371-9f60-8d90b00c3a8b",
   "metadata": {
    "tags": []
   },
   "outputs": [],
   "source": [
    "bucket_name = f\"sagemaker-cv-bootcamp-{aws_region}-{account_id}\"\n",
    "# If your labeling job name is different, update the following variable.\n",
    "labeling_job_name = \"cv-bootcamp-manuf-at-scale-cap-no-cap\"\n",
    "\n",
    "s3_manifest_file_path = (f\"s3://{bucket_name}/labeled-data/{labeling_job_name}/manifests/output/output.manifest\")"
   ]
  },
  {
   "cell_type": "code",
   "execution_count": 4,
   "id": "487cef55-a18e-4dad-a2f1-02b3e0b83ce7",
   "metadata": {
    "tags": []
   },
   "outputs": [],
   "source": [
    "model_filename = \"ssd_resnet50_v1_fpn_640x640_coco17_tpu-8.tar.gz\""
   ]
  },
  {
   "cell_type": "markdown",
   "id": "e0cef5ab-9556-48b7-a77b-a118f20c0ccb",
   "metadata": {},
   "source": [
    "## Pipeline parameters"
   ]
  },
  {
   "cell_type": "code",
   "execution_count": 5,
   "id": "9e423fe8-39e3-48f4-9666-ac62b90d9143",
   "metadata": {
    "tags": []
   },
   "outputs": [],
   "source": [
    "from sagemaker.workflow.parameters import (\n",
    "    ParameterInteger,\n",
    "    ParameterString,\n",
    ")"
   ]
  },
  {
   "cell_type": "code",
   "execution_count": 6,
   "id": "136b9aa5-3e54-44ce-8e9c-6786e10524b8",
   "metadata": {
    "tags": []
   },
   "outputs": [],
   "source": [
    "processing_instance_type = ParameterString(name=\"ProcessingInstanceType\", default_value=\"ml.m5.large\")\n",
    "processing_instance_count = ParameterInteger(name=\"ProcessingInstanceCount\", default_value=1)\n",
    "training_instance_type = ParameterString(name=\"TrainingInstanceType\", default_value=\"ml.g4dn.xlarge\")\n",
    "training_instance_count = ParameterInteger(name=\"TrainingInstanceCount\", default_value=1)"
   ]
  },
  {
   "cell_type": "markdown",
   "id": "665d8548-b420-471a-a0e9-a72550d0aaba",
   "metadata": {},
   "source": [
    "## Prepare the data processing job to be part of a pipeline"
   ]
  },
  {
   "cell_type": "markdown",
   "id": "093e058a-033e-4910-83a7-7d30d1215d1b",
   "metadata": {},
   "source": [
    "- data processing:\n",
    "    - data_processor = TensorFlowProcessor(..),\n",
    "    - Create a script that contains the data processing logic\n",
    "    - We configured the ProcessingInput and ProcessingOutput\n",
    "    - We configured and run the processor using data_processor.run(..)"
   ]
  },
  {
   "cell_type": "code",
   "execution_count": 7,
   "id": "9b5e6b75-249e-428a-84b4-0ef41060b666",
   "metadata": {
    "tags": []
   },
   "outputs": [],
   "source": [
    "import boto3\n",
    "import sagemaker\n",
    "from sagemaker import get_execution_role\n",
    "\n",
    "from sagemaker.sklearn.processing import SKLearnProcessor\n",
    "from sagemaker.processing import ProcessingInput, ProcessingOutput\n",
    "from sagemaker.workflow.pipeline_context import PipelineSession"
   ]
  },
  {
   "cell_type": "code",
   "execution_count": 8,
   "id": "e99aa564-9f8d-4c69-bce3-212dc4f2ab3e",
   "metadata": {
    "tags": []
   },
   "outputs": [],
   "source": [
    "pipeline_session = PipelineSession()\n",
    "role = get_execution_role()\n",
    "region = sagemaker.Session().boto_region_name"
   ]
  },
  {
   "cell_type": "code",
   "execution_count": 9,
   "id": "4b46cf04-5a10-4090-9532-9a22f32ef696",
   "metadata": {
    "tags": []
   },
   "outputs": [],
   "source": [
    "from sagemaker.tensorflow import TensorFlowProcessor\n",
    "from sagemaker.processing import ProcessingInput, ProcessingOutput\n",
    "from sagemaker import get_execution_role\n",
    "\n",
    "# Initialize the TensorFlowProcessor\n",
    "data_preprocessor = TensorFlowProcessor(\n",
    "    framework_version='2.3',\n",
    "    role=get_execution_role(),\n",
    "    instance_type='ml.m5.large',\n",
    "    instance_count=1,\n",
    "    base_job_name=\"img-data-preprocessing\",\n",
    "    py_version='py37',\n",
    "    sagemaker_session=pipeline_session\n",
    ")"
   ]
  },
  {
   "cell_type": "code",
   "execution_count": 10,
   "id": "155309bd-5efd-46f9-b0b0-17ef73893fcd",
   "metadata": {
    "tags": []
   },
   "outputs": [
    {
     "name": "stderr",
     "output_type": "stream",
     "text": [
      "/opt/conda/lib/python3.10/site-packages/sagemaker/workflow/pipeline_context.py:332: UserWarning: Running within a PipelineSession, there will be No Wait, No Logs, and No Job being started.\n",
      "  warnings.warn(\n"
     ]
    }
   ],
   "source": [
    "# Run the processing job\n",
    "data_processor_args = data_preprocessor.run(\n",
    "    code='preprocessing.py',\n",
    "    source_dir='preprocess',\n",
    "    inputs=[\n",
    "        ProcessingInput(\n",
    "            input_name='manifest',\n",
    "            source=s3_manifest_file_path,\n",
    "            destination='/opt/ml/processing/input/manifest'\n",
    "        ),\n",
    "        ProcessingInput(\n",
    "            input_name='images',\n",
    "            source=f\"s3://{bucket_name}/raw-data/manufacturing-at-scale-cap-no-cap/\",\n",
    "            destination='/opt/ml/processing/input/images'\n",
    "        )\n",
    "    ],\n",
    "    outputs=[\n",
    "        ProcessingOutput(\n",
    "            output_name='manifests',\n",
    "            source='/opt/ml/processing/output/manifests',\n",
    "            destination=f's3://{bucket_name}/prepared_data/manifests/',\n",
    "            s3_upload_mode=\"Continuous\"\n",
    "        ),\n",
    "        ProcessingOutput(\n",
    "            output_name='augmented_train_images',\n",
    "            source='/opt/ml/processing/output/augmented_train_images',\n",
    "            destination=f's3://{bucket_name}/prepared_data/train/images/',\n",
    "            s3_upload_mode=\"Continuous\"\n",
    "        ),\n",
    "        ProcessingOutput(\n",
    "            output_name='augmented_validation_images',\n",
    "            source='/opt/ml/processing/output/augmented_validation_images',\n",
    "            destination=f's3://{bucket_name}/prepared_data/validation/images/',\n",
    "            s3_upload_mode=\"Continuous\"\n",
    "        )\n",
    "    ],\n",
    "    arguments=[\n",
    "        \"--num_augmentations_per_img\", str(5),\n",
    "        \"--output_s3_bucket_name\", bucket_name,\n",
    "        \"--label_attribute_name\", \"cap-no-cap\"\n",
    "    ]\n",
    ")"
   ]
  },
  {
   "cell_type": "code",
   "execution_count": 11,
   "id": "81ca4bbf-a42c-428b-b279-db1f509c87e9",
   "metadata": {
    "tags": []
   },
   "outputs": [],
   "source": [
    "from sagemaker.workflow.steps import ProcessingStep\n",
    "\n",
    "data_process_step = ProcessingStep(\n",
    "    name=\"DataPreprocessing-ImageAugmentation\",\n",
    "    step_args=data_processor_args\n",
    ")"
   ]
  },
  {
   "cell_type": "markdown",
   "id": "3e519698-af00-4ebe-b6e2-8916c6790e29",
   "metadata": {},
   "source": [
    "## Prepare the training job to be part of a pipeline\n"
   ]
  },
  {
   "cell_type": "markdown",
   "id": "f4e40fd9-3a4f-494c-b8f1-7e61b2a1872a",
   "metadata": {},
   "source": [
    "- model training:\n",
    "    - model_estimator = Estimator(..),\n",
    "    - Create a script that contains the model training logic.\n",
    "    - We configured the TrainingInput, SageMaker by default copies the trained model from a specific location to S3.\n",
    "    - We configured and run the training job using model_estimator.fit({\"train\": .., \"test\": ..})"
   ]
  },
  {
   "cell_type": "code",
   "execution_count": 12,
   "id": "85f900b1-27cc-4b44-a59b-a4c0b664bfcd",
   "metadata": {
    "tags": []
   },
   "outputs": [
    {
     "data": {
      "text/plain": [
       "'763104351884.dkr.ecr.us-east-1.amazonaws.com/tensorflow-training:2.4-gpu-py37'"
      ]
     },
     "execution_count": 12,
     "metadata": {},
     "output_type": "execute_result"
    }
   ],
   "source": [
    "from sagemaker import image_uris\n",
    "\n",
    "training_instance_type = \"ml.p3.2xlarge\"\n",
    "# training_instance_type = \"ml.g4dn.xlarge\"\n",
    "# training_instance_type = \"ml.m5.xlarge\"\n",
    "\n",
    "# model version can be found in\n",
    "# https://sagemaker.readthedocs.io/en/stable/doc_utils/pretrainedmodels.html\n",
    "# available images: https://github.com/aws/deep-learning-containers/blob/master/available_images.md\n",
    "# Retrieve the docker image\n",
    "train_image_uri = image_uris.retrieve(\n",
    "    region=\"us-east-1\",\n",
    "    framework=\"tensorflow\",\n",
    "    version=\"2.4\",\n",
    "    image_scope=\"training\",\n",
    "    instance_type=training_instance_type\n",
    ")\n",
    "train_image_uri"
   ]
  },
  {
   "cell_type": "code",
   "execution_count": 13,
   "id": "933be382-affe-480b-8ecf-b652b9f06bd8",
   "metadata": {
    "tags": []
   },
   "outputs": [],
   "source": [
    "hyperparameters = {\n",
    "    \"batch_size\": \"3\",\n",
    "    \"reinitialize_top_layer\": \"Auto\",\n",
    "    \"train_only_top_layer\": \"False\",\n",
    "    \"optimizer\": \"adam\",\n",
    "    \"learning_rate\": \"0.001\",\n",
    "    \"beta_1\": \"0.9\",\n",
    "    \"beta_2\": \"0.999\",\n",
    "    \"momentum\": \"0.9\",\n",
    "    \"epsilon\": \"1e-07\",\n",
    "    \"rho\": \"0.95\",\n",
    "    \"initial_accumulator_value\": \"0.1\",\n",
    "    \"early_stopping\": \"False\",\n",
    "    \"early_stopping_patience\": \"5\",\n",
    "    \"early_stopping_min_delta\": \"0.0\",\n",
    "    \"epochs\": \"1\"\n",
    "}"
   ]
  },
  {
   "cell_type": "code",
   "execution_count": 14,
   "id": "6c2091d1-c081-4aee-8a7e-ac85ebe01939",
   "metadata": {
    "tags": []
   },
   "outputs": [
    {
     "name": "stdout",
     "output_type": "stream",
     "text": [
      "train/custom_object_detection_training.py:420:1: W293 blank line contains whitespace\n"
     ]
    }
   ],
   "source": [
    "!flake8 --max-line-length=120 --ignore=E402 train/custom_object_detection_training.py"
   ]
  },
  {
   "cell_type": "code",
   "execution_count": 15,
   "id": "10377741-0b4b-4e63-b19e-f77b98c01b9f",
   "metadata": {
    "tags": []
   },
   "outputs": [],
   "source": [
    "from sagemaker.estimator import Estimator\n",
    "from sagemaker.utils import name_from_base\n",
    "from sagemaker.tuner import HyperparameterTuner\n",
    "\n",
    "training_job_name = name_from_base(f\"cv-bootcamp-manuf1-model\")\n",
    "\n",
    "training_metric_definitions = [\n",
    "    {\"Name\": \"val_localization_loss\", \"Regex\": \"Val_localization=([0-9\\\\.]+)\"},\n",
    "    {\"Name\": \"val_classification_loss\", \"Regex\": \"Val_classification=([0-9\\\\.]+)\"},\n",
    "    {\"Name\": \"train_loss\", \"Regex\": \"loss=([0-9\\\\.]+).\"},\n",
    "]\n",
    "\n",
    "# Create SageMaker Estimator instance\n",
    "eager_tf_od_estimator = Estimator(\n",
    "    entry_point=\"custom_object_detection_training.py\",\n",
    "    source_dir=\"train\",\n",
    "    role=aws_role,\n",
    "    image_uri=train_image_uri,\n",
    "    model_uri=f\"s3://{bucket_name}/pre-trained-models/{model_filename}\",\n",
    "    instance_count=1,\n",
    "    instance_type=training_instance_type,\n",
    "    # instance_type=\"local\",\n",
    "    max_run=360000,\n",
    "    volume_size=50,\n",
    "    hyperparameters=hyperparameters,\n",
    "    output_path=f\"s3://{bucket_name}/manuf1-model/output/\",\n",
    "    base_job_name=training_job_name,\n",
    "    metric_definitions=training_metric_definitions,\n",
    "    sagemaker_session=pipeline_session\n",
    ")"
   ]
  },
  {
   "cell_type": "code",
   "execution_count": 16,
   "id": "45d44e5c-82da-4f21-baf1-3270e3836153",
   "metadata": {
    "tags": []
   },
   "outputs": [],
   "source": [
    "from sagemaker.inputs import TrainingInput"
   ]
  },
  {
   "cell_type": "code",
   "execution_count": 17,
   "id": "256fe342-6a6d-46b9-b83e-dd54c7a64086",
   "metadata": {
    "tags": []
   },
   "outputs": [],
   "source": [
    "train_dataset_s3_path = f\"s3://{bucket_name}/prepared_data/train/\"\n",
    "validation_dataset_s3_path = f\"s3://{bucket_name}/prepared_data/validation/\"\n",
    "manifests_dataset_s3_path = f\"s3://{bucket_name}/prepared_data/manifests/\""
   ]
  },
  {
   "cell_type": "code",
   "execution_count": 18,
   "id": "4b0f1574-284d-4d39-8e0d-a6f2a6734eca",
   "metadata": {
    "tags": []
   },
   "outputs": [],
   "source": [
    "!aws s3 ls {manifests_dataset_s3_path}"
   ]
  },
  {
   "cell_type": "code",
   "execution_count": 19,
   "id": "d7d0c2cb-6349-46c6-86e7-d9071226b058",
   "metadata": {
    "tags": []
   },
   "outputs": [],
   "source": [
    "training_data_input = TrainingInput(\n",
    "    s3_data=data_process_step.properties.ProcessingOutputConfig.Outputs[\"augmented_train_images\"].S3Output.S3Uri\n",
    ")\n",
    "validation_data_input = TrainingInput(\n",
    "    s3_data=data_process_step.properties.ProcessingOutputConfig.Outputs[\"augmented_validation_images\"].S3Output.S3Uri\n",
    ")\n",
    "manifests_data_input = TrainingInput(\n",
    "    s3_data=data_process_step.properties.ProcessingOutputConfig.Outputs[\"manifests\"].S3Output.S3Uri\n",
    ")"
   ]
  },
  {
   "cell_type": "code",
   "execution_count": 20,
   "id": "70cb26e6-5019-4d99-a9b1-d4e22fd7b182",
   "metadata": {
    "tags": []
   },
   "outputs": [
    {
     "name": "stdout",
     "output_type": "stream",
     "text": [
      "CPU times: user 210 µs, sys: 0 ns, total: 210 µs\n",
      "Wall time: 307 µs\n"
     ]
    }
   ],
   "source": [
    "%%time\n",
    "# Launch a SageMaker Training job by passing s3 path of the training data\n",
    "training_args = eager_tf_od_estimator.fit({\n",
    "    \"training\": training_data_input,\n",
    "    \"validation\": validation_data_input,\n",
    "    \"manifests\": manifests_dataset_s3_path\n",
    "#})\n",
    "}, logs=False, wait=False)"
   ]
  },
  {
   "cell_type": "code",
   "execution_count": 21,
   "id": "96d3a61b-a23d-420a-a5b3-36e60622053e",
   "metadata": {
    "tags": []
   },
   "outputs": [],
   "source": [
    "from sagemaker.workflow.steps import TrainingStep\n",
    "\n",
    "object_detection_model_training_step = TrainingStep(\n",
    "    name=\"Manuf1-Eager-TF-Object-Detection\",\n",
    "    step_args=training_args\n",
    ")"
   ]
  },
  {
   "cell_type": "markdown",
   "id": "e52a1a67-08e4-4ee8-be94-3cab34a54fda",
   "metadata": {
    "tags": []
   },
   "source": [
    "## Pipeline execution"
   ]
  },
  {
   "cell_type": "code",
   "execution_count": 22,
   "id": "9f6b1aae-42c6-445d-a4a7-33ee9caccf73",
   "metadata": {
    "tags": []
   },
   "outputs": [],
   "source": [
    "from sagemaker.workflow.pipeline import Pipeline"
   ]
  },
  {
   "cell_type": "code",
   "execution_count": 23,
   "id": "b72cf50f-124d-4eb2-bf14-f4d56fd2dcab",
   "metadata": {
    "tags": []
   },
   "outputs": [],
   "source": [
    "eager_object_detection_pipeline = Pipeline(\n",
    "    name=\"eager-object-detection-training-pipeline\",\n",
    "    parameters=[\n",
    "        processing_instance_type,\n",
    "        processing_instance_count,\n",
    "        training_instance_type,\n",
    "        training_instance_count\n",
    "    ],\n",
    "    steps=[\n",
    "        data_process_step,\n",
    "        object_detection_model_training_step\n",
    "    ]\n",
    ")"
   ]
  },
  {
   "cell_type": "code",
   "execution_count": 24,
   "id": "14ad1713-dd03-4c2d-ae37-9786d4155fad",
   "metadata": {
    "tags": []
   },
   "outputs": [
    {
     "data": {
      "text/plain": [
       "'eager-object-detection-training-pipeline'"
      ]
     },
     "execution_count": 24,
     "metadata": {},
     "output_type": "execute_result"
    }
   ],
   "source": [
    "eager_object_detection_pipeline.name"
   ]
  },
  {
   "cell_type": "code",
   "execution_count": 25,
   "id": "b1274c1c-b6a5-4f8b-b2ab-043ac8f10bab",
   "metadata": {
    "tags": []
   },
   "outputs": [
    {
     "data": {
      "text/plain": [
       "[<sagemaker.workflow.steps.ProcessingStep at 0x7fd0de1d4520>,\n",
       " <sagemaker.workflow.steps.TrainingStep at 0x7fd0dee77610>]"
      ]
     },
     "execution_count": 25,
     "metadata": {},
     "output_type": "execute_result"
    }
   ],
   "source": [
    "eager_object_detection_pipeline.steps"
   ]
  },
  {
   "cell_type": "code",
   "execution_count": 26,
   "id": "303463bc-e74e-46ba-8abd-80ef067950ce",
   "metadata": {
    "tags": []
   },
   "outputs": [
    {
     "data": {
      "text/plain": [
       "[ParameterString(name='ProcessingInstanceType', parameter_type=<ParameterTypeEnum.STRING: 'String'>, default_value='ml.m5.large'),\n",
       " ParameterInteger(name='ProcessingInstanceCount', parameter_type=<ParameterTypeEnum.INTEGER: 'Integer'>, default_value=1),\n",
       " 'ml.p3.2xlarge',\n",
       " ParameterInteger(name='TrainingInstanceCount', parameter_type=<ParameterTypeEnum.INTEGER: 'Integer'>, default_value=1)]"
      ]
     },
     "execution_count": 26,
     "metadata": {},
     "output_type": "execute_result"
    }
   ],
   "source": [
    "eager_object_detection_pipeline.parameters"
   ]
  },
  {
   "cell_type": "code",
   "execution_count": 27,
   "id": "83d982c8-46eb-4983-a454-12ef41a2d78e",
   "metadata": {
    "scrolled": true,
    "tags": []
   },
   "outputs": [
    {
     "name": "stderr",
     "output_type": "stream",
     "text": [
      "INFO:sagemaker.processing:Uploaded preprocess to s3://sagemaker-us-east-1-594841669104/eager-object-detection-training-pipeline/code/62a239d48b9848b8e1cde9200f9c6c18/sourcedir.tar.gz\n",
      "INFO:sagemaker.processing:runproc.sh uploaded to s3://sagemaker-us-east-1-594841669104/eager-object-detection-training-pipeline/code/54f0ef6bee583ff9186b762aaf572190/runproc.sh\n",
      "WARNING:sagemaker.workflow.utilities:Popping out 'ProcessingJobName' from the pipeline definition by default since it will be overridden at pipeline execution time. Please utilize the PipelineDefinitionConfig to persist this field in the pipeline definition if desired.\n",
      "WARNING:sagemaker.workflow.utilities:Popping out 'TrainingJobName' from the pipeline definition by default since it will be overridden at pipeline execution time. Please utilize the PipelineDefinitionConfig to persist this field in the pipeline definition if desired.\n"
     ]
    },
    {
     "data": {
      "text/plain": [
       "{'Version': '2020-12-01',\n",
       " 'Metadata': {},\n",
       " 'Parameters': [{'Name': 'ProcessingInstanceType',\n",
       "   'Type': 'String',\n",
       "   'DefaultValue': 'ml.m5.large'},\n",
       "  {'Name': 'ProcessingInstanceCount', 'Type': 'Integer', 'DefaultValue': 1},\n",
       "  {'Name': 'TrainingInstanceCount', 'Type': 'Integer', 'DefaultValue': 1}],\n",
       " 'PipelineExperimentConfig': {'ExperimentName': {'Get': 'Execution.PipelineName'},\n",
       "  'TrialName': {'Get': 'Execution.PipelineExecutionId'}},\n",
       " 'Steps': [{'Name': 'DataPreprocessing-ImageAugmentation',\n",
       "   'Type': 'Processing',\n",
       "   'Arguments': {'ProcessingResources': {'ClusterConfig': {'InstanceType': 'ml.m5.large',\n",
       "      'InstanceCount': 1,\n",
       "      'VolumeSizeInGB': 30}},\n",
       "    'AppSpecification': {'ImageUri': '763104351884.dkr.ecr.us-east-1.amazonaws.com/tensorflow-training:2.3-cpu-py37',\n",
       "     'ContainerArguments': ['--num_augmentations_per_img',\n",
       "      '5',\n",
       "      '--output_s3_bucket_name',\n",
       "      'sagemaker-cv-bootcamp-us-east-1-594841669104',\n",
       "      '--label_attribute_name',\n",
       "      'cap-no-cap'],\n",
       "     'ContainerEntrypoint': ['/bin/bash',\n",
       "      '/opt/ml/processing/input/entrypoint/runproc.sh']},\n",
       "    'RoleArn': 'arn:aws:iam::594841669104:role/service-role/AmazonSageMaker-ExecutionRole-20221201T132700',\n",
       "    'ProcessingInputs': [{'InputName': 'manifest',\n",
       "      'AppManaged': False,\n",
       "      'S3Input': {'S3Uri': 's3://sagemaker-cv-bootcamp-us-east-1-594841669104/labeled-data/cv-bootcamp-manuf-at-scale-cap-no-cap/manifests/output/output.manifest',\n",
       "       'LocalPath': '/opt/ml/processing/input/manifest',\n",
       "       'S3DataType': 'S3Prefix',\n",
       "       'S3InputMode': 'File',\n",
       "       'S3DataDistributionType': 'FullyReplicated',\n",
       "       'S3CompressionType': 'None'}},\n",
       "     {'InputName': 'images',\n",
       "      'AppManaged': False,\n",
       "      'S3Input': {'S3Uri': 's3://sagemaker-cv-bootcamp-us-east-1-594841669104/raw-data/manufacturing-at-scale-cap-no-cap/',\n",
       "       'LocalPath': '/opt/ml/processing/input/images',\n",
       "       'S3DataType': 'S3Prefix',\n",
       "       'S3InputMode': 'File',\n",
       "       'S3DataDistributionType': 'FullyReplicated',\n",
       "       'S3CompressionType': 'None'}},\n",
       "     {'InputName': 'code',\n",
       "      'AppManaged': False,\n",
       "      'S3Input': {'S3Uri': 's3://sagemaker-us-east-1-594841669104/eager-object-detection-training-pipeline/code/62a239d48b9848b8e1cde9200f9c6c18/sourcedir.tar.gz',\n",
       "       'LocalPath': '/opt/ml/processing/input/code/',\n",
       "       'S3DataType': 'S3Prefix',\n",
       "       'S3InputMode': 'File',\n",
       "       'S3DataDistributionType': 'FullyReplicated',\n",
       "       'S3CompressionType': 'None'}},\n",
       "     {'InputName': 'entrypoint',\n",
       "      'AppManaged': False,\n",
       "      'S3Input': {'S3Uri': 's3://sagemaker-us-east-1-594841669104/eager-object-detection-training-pipeline/code/54f0ef6bee583ff9186b762aaf572190/runproc.sh',\n",
       "       'LocalPath': '/opt/ml/processing/input/entrypoint',\n",
       "       'S3DataType': 'S3Prefix',\n",
       "       'S3InputMode': 'File',\n",
       "       'S3DataDistributionType': 'FullyReplicated',\n",
       "       'S3CompressionType': 'None'}}],\n",
       "    'ProcessingOutputConfig': {'Outputs': [{'OutputName': 'manifests',\n",
       "       'AppManaged': False,\n",
       "       'S3Output': {'S3Uri': 's3://sagemaker-cv-bootcamp-us-east-1-594841669104/prepared_data/manifests/',\n",
       "        'LocalPath': '/opt/ml/processing/output/manifests',\n",
       "        'S3UploadMode': 'Continuous'}},\n",
       "      {'OutputName': 'augmented_train_images',\n",
       "       'AppManaged': False,\n",
       "       'S3Output': {'S3Uri': 's3://sagemaker-cv-bootcamp-us-east-1-594841669104/prepared_data/train/images/',\n",
       "        'LocalPath': '/opt/ml/processing/output/augmented_train_images',\n",
       "        'S3UploadMode': 'Continuous'}},\n",
       "      {'OutputName': 'augmented_validation_images',\n",
       "       'AppManaged': False,\n",
       "       'S3Output': {'S3Uri': 's3://sagemaker-cv-bootcamp-us-east-1-594841669104/prepared_data/validation/images/',\n",
       "        'LocalPath': '/opt/ml/processing/output/augmented_validation_images',\n",
       "        'S3UploadMode': 'Continuous'}}]}}},\n",
       "  {'Name': 'Manuf1-Eager-TF-Object-Detection',\n",
       "   'Type': 'Training',\n",
       "   'Arguments': {'AlgorithmSpecification': {'TrainingInputMode': 'File',\n",
       "     'TrainingImage': '763104351884.dkr.ecr.us-east-1.amazonaws.com/tensorflow-training:2.4-gpu-py37',\n",
       "     'MetricDefinitions': [{'Name': 'val_localization_loss',\n",
       "       'Regex': 'Val_localization=([0-9\\\\.]+)'},\n",
       "      {'Name': 'val_classification_loss',\n",
       "       'Regex': 'Val_classification=([0-9\\\\.]+)'},\n",
       "      {'Name': 'train_loss', 'Regex': 'loss=([0-9\\\\.]+).'}]},\n",
       "    'OutputDataConfig': {'S3OutputPath': 's3://sagemaker-cv-bootcamp-us-east-1-594841669104/manuf1-model/output/'},\n",
       "    'StoppingCondition': {'MaxRuntimeInSeconds': 360000},\n",
       "    'ResourceConfig': {'VolumeSizeInGB': 50,\n",
       "     'InstanceCount': 1,\n",
       "     'InstanceType': 'ml.p3.2xlarge'},\n",
       "    'RoleArn': 'arn:aws:iam::594841669104:role/service-role/AmazonSageMaker-ExecutionRole-20221201T132700',\n",
       "    'InputDataConfig': [{'DataSource': {'S3DataSource': {'S3DataType': 'S3Prefix',\n",
       "        'S3Uri': {'Get': \"Steps.DataPreprocessing-ImageAugmentation.ProcessingOutputConfig.Outputs['augmented_train_images'].S3Output.S3Uri\"},\n",
       "        'S3DataDistributionType': 'FullyReplicated'}},\n",
       "      'ChannelName': 'training'},\n",
       "     {'DataSource': {'S3DataSource': {'S3DataType': 'S3Prefix',\n",
       "        'S3Uri': {'Get': \"Steps.DataPreprocessing-ImageAugmentation.ProcessingOutputConfig.Outputs['augmented_validation_images'].S3Output.S3Uri\"},\n",
       "        'S3DataDistributionType': 'FullyReplicated'}},\n",
       "      'ChannelName': 'validation'},\n",
       "     {'DataSource': {'S3DataSource': {'S3DataType': 'S3Prefix',\n",
       "        'S3Uri': 's3://sagemaker-cv-bootcamp-us-east-1-594841669104/prepared_data/manifests/',\n",
       "        'S3DataDistributionType': 'FullyReplicated'}},\n",
       "      'ChannelName': 'manifests'},\n",
       "     {'DataSource': {'S3DataSource': {'S3DataType': 'S3Prefix',\n",
       "        'S3Uri': 's3://sagemaker-cv-bootcamp-us-east-1-594841669104/pre-trained-models/ssd_resnet50_v1_fpn_640x640_coco17_tpu-8.tar.gz',\n",
       "        'S3DataDistributionType': 'FullyReplicated'}},\n",
       "      'ContentType': 'application/x-sagemaker-model',\n",
       "      'InputMode': 'File',\n",
       "      'ChannelName': 'model'}],\n",
       "    'HyperParameters': {'batch_size': '\"3\"',\n",
       "     'reinitialize_top_layer': '\"Auto\"',\n",
       "     'train_only_top_layer': '\"False\"',\n",
       "     'optimizer': '\"adam\"',\n",
       "     'learning_rate': '\"0.001\"',\n",
       "     'beta_1': '\"0.9\"',\n",
       "     'beta_2': '\"0.999\"',\n",
       "     'momentum': '\"0.9\"',\n",
       "     'epsilon': '\"1e-07\"',\n",
       "     'rho': '\"0.95\"',\n",
       "     'initial_accumulator_value': '\"0.1\"',\n",
       "     'early_stopping': '\"False\"',\n",
       "     'early_stopping_patience': '\"5\"',\n",
       "     'early_stopping_min_delta': '\"0.0\"',\n",
       "     'epochs': '\"1\"',\n",
       "     'sagemaker_submit_directory': '\"s3://sagemaker-cv-bootcamp-us-east-1-594841669104/eager-object-detection-training-pipeline/code/602977d7e299793e3b90c051ab9e9dcf/sourcedir.tar.gz\"',\n",
       "     'sagemaker_program': '\"custom_object_detection_training.py\"',\n",
       "     'sagemaker_container_log_level': '20',\n",
       "     'sagemaker_region': '\"us-east-1\"'},\n",
       "    'DebugHookConfig': {'S3OutputPath': 's3://sagemaker-cv-bootcamp-us-east-1-594841669104/manuf1-model/output/',\n",
       "     'CollectionConfigurations': []},\n",
       "    'ProfilerConfig': {'S3OutputPath': 's3://sagemaker-cv-bootcamp-us-east-1-594841669104/manuf1-model/output/',\n",
       "     'DisableProfiler': False}}}]}"
      ]
     },
     "execution_count": 27,
     "metadata": {},
     "output_type": "execute_result"
    }
   ],
   "source": [
    "import json\n",
    "\n",
    "json.loads(eager_object_detection_pipeline.definition())"
   ]
  },
  {
   "cell_type": "markdown",
   "id": "76d8b14a-4aff-4d8c-9722-348e2babae45",
   "metadata": {},
   "source": [
    "### Creating, updating and starting a pipeline\n",
    "\n",
    "Submit the pipeline definition to the Pipeline service. The Pipeline service uses the role that is passed in to create all the jobs defined in the steps.\n",
    "\n"
   ]
  },
  {
   "cell_type": "code",
   "execution_count": 28,
   "id": "4fcab4e1-faca-43e0-a9a3-f8856fbafe7b",
   "metadata": {
    "tags": []
   },
   "outputs": [
    {
     "name": "stderr",
     "output_type": "stream",
     "text": [
      "INFO:sagemaker.processing:Uploaded preprocess to s3://sagemaker-us-east-1-594841669104/eager-object-detection-training-pipeline/code/62a239d48b9848b8e1cde9200f9c6c18/sourcedir.tar.gz\n",
      "INFO:sagemaker.processing:runproc.sh uploaded to s3://sagemaker-us-east-1-594841669104/eager-object-detection-training-pipeline/code/54f0ef6bee583ff9186b762aaf572190/runproc.sh\n",
      "WARNING:sagemaker.workflow.utilities:Popping out 'ProcessingJobName' from the pipeline definition by default since it will be overridden at pipeline execution time. Please utilize the PipelineDefinitionConfig to persist this field in the pipeline definition if desired.\n",
      "WARNING:sagemaker.workflow.utilities:Popping out 'TrainingJobName' from the pipeline definition by default since it will be overridden at pipeline execution time. Please utilize the PipelineDefinitionConfig to persist this field in the pipeline definition if desired.\n"
     ]
    },
    {
     "data": {
      "text/plain": [
       "{'PipelineArn': 'arn:aws:sagemaker:us-east-1:594841669104:pipeline/eager-object-detection-training-pipeline',\n",
       " 'ResponseMetadata': {'RequestId': '3355121b-c96d-45b8-bc8e-2c0fb8f4e60e',\n",
       "  'HTTPStatusCode': 200,\n",
       "  'HTTPHeaders': {'x-amzn-requestid': '3355121b-c96d-45b8-bc8e-2c0fb8f4e60e',\n",
       "   'content-type': 'application/x-amz-json-1.1',\n",
       "   'content-length': '108',\n",
       "   'date': 'Wed, 14 Feb 2024 06:01:17 GMT'},\n",
       "  'RetryAttempts': 0}}"
      ]
     },
     "execution_count": 28,
     "metadata": {},
     "output_type": "execute_result"
    }
   ],
   "source": [
    "eager_object_detection_pipeline.upsert(role_arn=role)"
   ]
  },
  {
   "cell_type": "code",
   "execution_count": 29,
   "id": "f08e8988-9f9d-467a-b75a-be02d2cb0b7a",
   "metadata": {
    "tags": []
   },
   "outputs": [],
   "source": [
    "execution = eager_object_detection_pipeline.start()"
   ]
  },
  {
   "cell_type": "code",
   "execution_count": 30,
   "id": "da16978a-1324-4820-aea4-132a853b9ae6",
   "metadata": {
    "tags": []
   },
   "outputs": [
    {
     "data": {
      "text/plain": [
       "{'PipelineArn': 'arn:aws:sagemaker:us-east-1:594841669104:pipeline/eager-object-detection-training-pipeline',\n",
       " 'PipelineExecutionArn': 'arn:aws:sagemaker:us-east-1:594841669104:pipeline/eager-object-detection-training-pipeline/execution/goomkbjgk4yn',\n",
       " 'PipelineExecutionDisplayName': 'execution-1707890479492',\n",
       " 'PipelineExecutionStatus': 'Failed',\n",
       " 'PipelineExperimentConfig': {'ExperimentName': 'eager-object-detection-training-pipeline',\n",
       "  'TrialName': 'goomkbjgk4yn'},\n",
       " 'FailureReason': 'Step failure: One or multiple steps failed.',\n",
       " 'CreationTime': datetime.datetime(2024, 2, 14, 6, 1, 19, 421000, tzinfo=tzlocal()),\n",
       " 'LastModifiedTime': datetime.datetime(2024, 2, 14, 6, 1, 21, 572000, tzinfo=tzlocal()),\n",
       " 'CreatedBy': {'UserProfileArn': 'arn:aws:sagemaker:us-east-1:594841669104:user-profile/d-ullkugtmf0xx/default-1674085267568',\n",
       "  'UserProfileName': 'default-1674085267568',\n",
       "  'DomainId': 'd-ullkugtmf0xx'},\n",
       " 'LastModifiedBy': {'UserProfileArn': 'arn:aws:sagemaker:us-east-1:594841669104:user-profile/d-ullkugtmf0xx/default-1674085267568',\n",
       "  'UserProfileName': 'default-1674085267568',\n",
       "  'DomainId': 'd-ullkugtmf0xx'},\n",
       " 'ResponseMetadata': {'RequestId': 'f91b67e1-d8f2-4d2d-9d4e-35b04c7cb26d',\n",
       "  'HTTPStatusCode': 200,\n",
       "  'HTTPHeaders': {'x-amzn-requestid': 'f91b67e1-d8f2-4d2d-9d4e-35b04c7cb26d',\n",
       "   'content-type': 'application/x-amz-json-1.1',\n",
       "   'content-length': '978',\n",
       "   'date': 'Wed, 14 Feb 2024 06:01:21 GMT'},\n",
       "  'RetryAttempts': 0}}"
      ]
     },
     "execution_count": 30,
     "metadata": {},
     "output_type": "execute_result"
    }
   ],
   "source": [
    "execution.describe()"
   ]
  },
  {
   "cell_type": "code",
   "execution_count": null,
   "id": "b751a5b7-823a-4f8f-865f-286167347444",
   "metadata": {},
   "outputs": [],
   "source": []
  },
  {
   "cell_type": "code",
   "execution_count": null,
   "id": "44341ddb-b647-4803-8719-8ead471a8822",
   "metadata": {},
   "outputs": [],
   "source": []
  }
 ],
 "metadata": {
  "availableInstances": [
   {
    "_defaultOrder": 0,
    "_isFastLaunch": true,
    "category": "General purpose",
    "gpuNum": 0,
    "hideHardwareSpecs": false,
    "memoryGiB": 4,
    "name": "ml.t3.medium",
    "vcpuNum": 2
   },
   {
    "_defaultOrder": 1,
    "_isFastLaunch": false,
    "category": "General purpose",
    "gpuNum": 0,
    "hideHardwareSpecs": false,
    "memoryGiB": 8,
    "name": "ml.t3.large",
    "vcpuNum": 2
   },
   {
    "_defaultOrder": 2,
    "_isFastLaunch": false,
    "category": "General purpose",
    "gpuNum": 0,
    "hideHardwareSpecs": false,
    "memoryGiB": 16,
    "name": "ml.t3.xlarge",
    "vcpuNum": 4
   },
   {
    "_defaultOrder": 3,
    "_isFastLaunch": false,
    "category": "General purpose",
    "gpuNum": 0,
    "hideHardwareSpecs": false,
    "memoryGiB": 32,
    "name": "ml.t3.2xlarge",
    "vcpuNum": 8
   },
   {
    "_defaultOrder": 4,
    "_isFastLaunch": true,
    "category": "General purpose",
    "gpuNum": 0,
    "hideHardwareSpecs": false,
    "memoryGiB": 8,
    "name": "ml.m5.large",
    "vcpuNum": 2
   },
   {
    "_defaultOrder": 5,
    "_isFastLaunch": false,
    "category": "General purpose",
    "gpuNum": 0,
    "hideHardwareSpecs": false,
    "memoryGiB": 16,
    "name": "ml.m5.xlarge",
    "vcpuNum": 4
   },
   {
    "_defaultOrder": 6,
    "_isFastLaunch": false,
    "category": "General purpose",
    "gpuNum": 0,
    "hideHardwareSpecs": false,
    "memoryGiB": 32,
    "name": "ml.m5.2xlarge",
    "vcpuNum": 8
   },
   {
    "_defaultOrder": 7,
    "_isFastLaunch": false,
    "category": "General purpose",
    "gpuNum": 0,
    "hideHardwareSpecs": false,
    "memoryGiB": 64,
    "name": "ml.m5.4xlarge",
    "vcpuNum": 16
   },
   {
    "_defaultOrder": 8,
    "_isFastLaunch": false,
    "category": "General purpose",
    "gpuNum": 0,
    "hideHardwareSpecs": false,
    "memoryGiB": 128,
    "name": "ml.m5.8xlarge",
    "vcpuNum": 32
   },
   {
    "_defaultOrder": 9,
    "_isFastLaunch": false,
    "category": "General purpose",
    "gpuNum": 0,
    "hideHardwareSpecs": false,
    "memoryGiB": 192,
    "name": "ml.m5.12xlarge",
    "vcpuNum": 48
   },
   {
    "_defaultOrder": 10,
    "_isFastLaunch": false,
    "category": "General purpose",
    "gpuNum": 0,
    "hideHardwareSpecs": false,
    "memoryGiB": 256,
    "name": "ml.m5.16xlarge",
    "vcpuNum": 64
   },
   {
    "_defaultOrder": 11,
    "_isFastLaunch": false,
    "category": "General purpose",
    "gpuNum": 0,
    "hideHardwareSpecs": false,
    "memoryGiB": 384,
    "name": "ml.m5.24xlarge",
    "vcpuNum": 96
   },
   {
    "_defaultOrder": 12,
    "_isFastLaunch": false,
    "category": "General purpose",
    "gpuNum": 0,
    "hideHardwareSpecs": false,
    "memoryGiB": 8,
    "name": "ml.m5d.large",
    "vcpuNum": 2
   },
   {
    "_defaultOrder": 13,
    "_isFastLaunch": false,
    "category": "General purpose",
    "gpuNum": 0,
    "hideHardwareSpecs": false,
    "memoryGiB": 16,
    "name": "ml.m5d.xlarge",
    "vcpuNum": 4
   },
   {
    "_defaultOrder": 14,
    "_isFastLaunch": false,
    "category": "General purpose",
    "gpuNum": 0,
    "hideHardwareSpecs": false,
    "memoryGiB": 32,
    "name": "ml.m5d.2xlarge",
    "vcpuNum": 8
   },
   {
    "_defaultOrder": 15,
    "_isFastLaunch": false,
    "category": "General purpose",
    "gpuNum": 0,
    "hideHardwareSpecs": false,
    "memoryGiB": 64,
    "name": "ml.m5d.4xlarge",
    "vcpuNum": 16
   },
   {
    "_defaultOrder": 16,
    "_isFastLaunch": false,
    "category": "General purpose",
    "gpuNum": 0,
    "hideHardwareSpecs": false,
    "memoryGiB": 128,
    "name": "ml.m5d.8xlarge",
    "vcpuNum": 32
   },
   {
    "_defaultOrder": 17,
    "_isFastLaunch": false,
    "category": "General purpose",
    "gpuNum": 0,
    "hideHardwareSpecs": false,
    "memoryGiB": 192,
    "name": "ml.m5d.12xlarge",
    "vcpuNum": 48
   },
   {
    "_defaultOrder": 18,
    "_isFastLaunch": false,
    "category": "General purpose",
    "gpuNum": 0,
    "hideHardwareSpecs": false,
    "memoryGiB": 256,
    "name": "ml.m5d.16xlarge",
    "vcpuNum": 64
   },
   {
    "_defaultOrder": 19,
    "_isFastLaunch": false,
    "category": "General purpose",
    "gpuNum": 0,
    "hideHardwareSpecs": false,
    "memoryGiB": 384,
    "name": "ml.m5d.24xlarge",
    "vcpuNum": 96
   },
   {
    "_defaultOrder": 20,
    "_isFastLaunch": false,
    "category": "General purpose",
    "gpuNum": 0,
    "hideHardwareSpecs": true,
    "memoryGiB": 0,
    "name": "ml.geospatial.interactive",
    "supportedImageNames": [
     "sagemaker-geospatial-v1-0"
    ],
    "vcpuNum": 0
   },
   {
    "_defaultOrder": 21,
    "_isFastLaunch": true,
    "category": "Compute optimized",
    "gpuNum": 0,
    "hideHardwareSpecs": false,
    "memoryGiB": 4,
    "name": "ml.c5.large",
    "vcpuNum": 2
   },
   {
    "_defaultOrder": 22,
    "_isFastLaunch": false,
    "category": "Compute optimized",
    "gpuNum": 0,
    "hideHardwareSpecs": false,
    "memoryGiB": 8,
    "name": "ml.c5.xlarge",
    "vcpuNum": 4
   },
   {
    "_defaultOrder": 23,
    "_isFastLaunch": false,
    "category": "Compute optimized",
    "gpuNum": 0,
    "hideHardwareSpecs": false,
    "memoryGiB": 16,
    "name": "ml.c5.2xlarge",
    "vcpuNum": 8
   },
   {
    "_defaultOrder": 24,
    "_isFastLaunch": false,
    "category": "Compute optimized",
    "gpuNum": 0,
    "hideHardwareSpecs": false,
    "memoryGiB": 32,
    "name": "ml.c5.4xlarge",
    "vcpuNum": 16
   },
   {
    "_defaultOrder": 25,
    "_isFastLaunch": false,
    "category": "Compute optimized",
    "gpuNum": 0,
    "hideHardwareSpecs": false,
    "memoryGiB": 72,
    "name": "ml.c5.9xlarge",
    "vcpuNum": 36
   },
   {
    "_defaultOrder": 26,
    "_isFastLaunch": false,
    "category": "Compute optimized",
    "gpuNum": 0,
    "hideHardwareSpecs": false,
    "memoryGiB": 96,
    "name": "ml.c5.12xlarge",
    "vcpuNum": 48
   },
   {
    "_defaultOrder": 27,
    "_isFastLaunch": false,
    "category": "Compute optimized",
    "gpuNum": 0,
    "hideHardwareSpecs": false,
    "memoryGiB": 144,
    "name": "ml.c5.18xlarge",
    "vcpuNum": 72
   },
   {
    "_defaultOrder": 28,
    "_isFastLaunch": false,
    "category": "Compute optimized",
    "gpuNum": 0,
    "hideHardwareSpecs": false,
    "memoryGiB": 192,
    "name": "ml.c5.24xlarge",
    "vcpuNum": 96
   },
   {
    "_defaultOrder": 29,
    "_isFastLaunch": true,
    "category": "Accelerated computing",
    "gpuNum": 1,
    "hideHardwareSpecs": false,
    "memoryGiB": 16,
    "name": "ml.g4dn.xlarge",
    "vcpuNum": 4
   },
   {
    "_defaultOrder": 30,
    "_isFastLaunch": false,
    "category": "Accelerated computing",
    "gpuNum": 1,
    "hideHardwareSpecs": false,
    "memoryGiB": 32,
    "name": "ml.g4dn.2xlarge",
    "vcpuNum": 8
   },
   {
    "_defaultOrder": 31,
    "_isFastLaunch": false,
    "category": "Accelerated computing",
    "gpuNum": 1,
    "hideHardwareSpecs": false,
    "memoryGiB": 64,
    "name": "ml.g4dn.4xlarge",
    "vcpuNum": 16
   },
   {
    "_defaultOrder": 32,
    "_isFastLaunch": false,
    "category": "Accelerated computing",
    "gpuNum": 1,
    "hideHardwareSpecs": false,
    "memoryGiB": 128,
    "name": "ml.g4dn.8xlarge",
    "vcpuNum": 32
   },
   {
    "_defaultOrder": 33,
    "_isFastLaunch": false,
    "category": "Accelerated computing",
    "gpuNum": 4,
    "hideHardwareSpecs": false,
    "memoryGiB": 192,
    "name": "ml.g4dn.12xlarge",
    "vcpuNum": 48
   },
   {
    "_defaultOrder": 34,
    "_isFastLaunch": false,
    "category": "Accelerated computing",
    "gpuNum": 1,
    "hideHardwareSpecs": false,
    "memoryGiB": 256,
    "name": "ml.g4dn.16xlarge",
    "vcpuNum": 64
   },
   {
    "_defaultOrder": 35,
    "_isFastLaunch": false,
    "category": "Accelerated computing",
    "gpuNum": 1,
    "hideHardwareSpecs": false,
    "memoryGiB": 61,
    "name": "ml.p3.2xlarge",
    "vcpuNum": 8
   },
   {
    "_defaultOrder": 36,
    "_isFastLaunch": false,
    "category": "Accelerated computing",
    "gpuNum": 4,
    "hideHardwareSpecs": false,
    "memoryGiB": 244,
    "name": "ml.p3.8xlarge",
    "vcpuNum": 32
   },
   {
    "_defaultOrder": 37,
    "_isFastLaunch": false,
    "category": "Accelerated computing",
    "gpuNum": 8,
    "hideHardwareSpecs": false,
    "memoryGiB": 488,
    "name": "ml.p3.16xlarge",
    "vcpuNum": 64
   },
   {
    "_defaultOrder": 38,
    "_isFastLaunch": false,
    "category": "Accelerated computing",
    "gpuNum": 8,
    "hideHardwareSpecs": false,
    "memoryGiB": 768,
    "name": "ml.p3dn.24xlarge",
    "vcpuNum": 96
   },
   {
    "_defaultOrder": 39,
    "_isFastLaunch": false,
    "category": "Memory Optimized",
    "gpuNum": 0,
    "hideHardwareSpecs": false,
    "memoryGiB": 16,
    "name": "ml.r5.large",
    "vcpuNum": 2
   },
   {
    "_defaultOrder": 40,
    "_isFastLaunch": false,
    "category": "Memory Optimized",
    "gpuNum": 0,
    "hideHardwareSpecs": false,
    "memoryGiB": 32,
    "name": "ml.r5.xlarge",
    "vcpuNum": 4
   },
   {
    "_defaultOrder": 41,
    "_isFastLaunch": false,
    "category": "Memory Optimized",
    "gpuNum": 0,
    "hideHardwareSpecs": false,
    "memoryGiB": 64,
    "name": "ml.r5.2xlarge",
    "vcpuNum": 8
   },
   {
    "_defaultOrder": 42,
    "_isFastLaunch": false,
    "category": "Memory Optimized",
    "gpuNum": 0,
    "hideHardwareSpecs": false,
    "memoryGiB": 128,
    "name": "ml.r5.4xlarge",
    "vcpuNum": 16
   },
   {
    "_defaultOrder": 43,
    "_isFastLaunch": false,
    "category": "Memory Optimized",
    "gpuNum": 0,
    "hideHardwareSpecs": false,
    "memoryGiB": 256,
    "name": "ml.r5.8xlarge",
    "vcpuNum": 32
   },
   {
    "_defaultOrder": 44,
    "_isFastLaunch": false,
    "category": "Memory Optimized",
    "gpuNum": 0,
    "hideHardwareSpecs": false,
    "memoryGiB": 384,
    "name": "ml.r5.12xlarge",
    "vcpuNum": 48
   },
   {
    "_defaultOrder": 45,
    "_isFastLaunch": false,
    "category": "Memory Optimized",
    "gpuNum": 0,
    "hideHardwareSpecs": false,
    "memoryGiB": 512,
    "name": "ml.r5.16xlarge",
    "vcpuNum": 64
   },
   {
    "_defaultOrder": 46,
    "_isFastLaunch": false,
    "category": "Memory Optimized",
    "gpuNum": 0,
    "hideHardwareSpecs": false,
    "memoryGiB": 768,
    "name": "ml.r5.24xlarge",
    "vcpuNum": 96
   },
   {
    "_defaultOrder": 47,
    "_isFastLaunch": false,
    "category": "Accelerated computing",
    "gpuNum": 1,
    "hideHardwareSpecs": false,
    "memoryGiB": 16,
    "name": "ml.g5.xlarge",
    "vcpuNum": 4
   },
   {
    "_defaultOrder": 48,
    "_isFastLaunch": false,
    "category": "Accelerated computing",
    "gpuNum": 1,
    "hideHardwareSpecs": false,
    "memoryGiB": 32,
    "name": "ml.g5.2xlarge",
    "vcpuNum": 8
   },
   {
    "_defaultOrder": 49,
    "_isFastLaunch": false,
    "category": "Accelerated computing",
    "gpuNum": 1,
    "hideHardwareSpecs": false,
    "memoryGiB": 64,
    "name": "ml.g5.4xlarge",
    "vcpuNum": 16
   },
   {
    "_defaultOrder": 50,
    "_isFastLaunch": false,
    "category": "Accelerated computing",
    "gpuNum": 1,
    "hideHardwareSpecs": false,
    "memoryGiB": 128,
    "name": "ml.g5.8xlarge",
    "vcpuNum": 32
   },
   {
    "_defaultOrder": 51,
    "_isFastLaunch": false,
    "category": "Accelerated computing",
    "gpuNum": 1,
    "hideHardwareSpecs": false,
    "memoryGiB": 256,
    "name": "ml.g5.16xlarge",
    "vcpuNum": 64
   },
   {
    "_defaultOrder": 52,
    "_isFastLaunch": false,
    "category": "Accelerated computing",
    "gpuNum": 4,
    "hideHardwareSpecs": false,
    "memoryGiB": 192,
    "name": "ml.g5.12xlarge",
    "vcpuNum": 48
   },
   {
    "_defaultOrder": 53,
    "_isFastLaunch": false,
    "category": "Accelerated computing",
    "gpuNum": 4,
    "hideHardwareSpecs": false,
    "memoryGiB": 384,
    "name": "ml.g5.24xlarge",
    "vcpuNum": 96
   },
   {
    "_defaultOrder": 54,
    "_isFastLaunch": false,
    "category": "Accelerated computing",
    "gpuNum": 8,
    "hideHardwareSpecs": false,
    "memoryGiB": 768,
    "name": "ml.g5.48xlarge",
    "vcpuNum": 192
   },
   {
    "_defaultOrder": 55,
    "_isFastLaunch": false,
    "category": "Accelerated computing",
    "gpuNum": 8,
    "hideHardwareSpecs": false,
    "memoryGiB": 1152,
    "name": "ml.p4d.24xlarge",
    "vcpuNum": 96
   },
   {
    "_defaultOrder": 56,
    "_isFastLaunch": false,
    "category": "Accelerated computing",
    "gpuNum": 8,
    "hideHardwareSpecs": false,
    "memoryGiB": 1152,
    "name": "ml.p4de.24xlarge",
    "vcpuNum": 96
   },
   {
    "_defaultOrder": 57,
    "_isFastLaunch": false,
    "category": "Accelerated computing",
    "gpuNum": 0,
    "hideHardwareSpecs": false,
    "memoryGiB": 32,
    "name": "ml.trn1.2xlarge",
    "vcpuNum": 8
   },
   {
    "_defaultOrder": 58,
    "_isFastLaunch": false,
    "category": "Accelerated computing",
    "gpuNum": 0,
    "hideHardwareSpecs": false,
    "memoryGiB": 512,
    "name": "ml.trn1.32xlarge",
    "vcpuNum": 128
   },
   {
    "_defaultOrder": 59,
    "_isFastLaunch": false,
    "category": "Accelerated computing",
    "gpuNum": 0,
    "hideHardwareSpecs": false,
    "memoryGiB": 512,
    "name": "ml.trn1n.32xlarge",
    "vcpuNum": 128
   }
  ],
  "instance_type": "ml.t3.medium",
  "kernelspec": {
   "display_name": "Python 3 (Data Science 3.0)",
   "language": "python",
   "name": "python3__SAGEMAKER_INTERNAL__arn:aws:sagemaker:us-east-1:081325390199:image/sagemaker-data-science-310-v1"
  },
  "language_info": {
   "codemirror_mode": {
    "name": "ipython",
    "version": 3
   },
   "file_extension": ".py",
   "mimetype": "text/x-python",
   "name": "python",
   "nbconvert_exporter": "python",
   "pygments_lexer": "ipython3",
   "version": "3.10.6"
  }
 },
 "nbformat": 4,
 "nbformat_minor": 5
}
